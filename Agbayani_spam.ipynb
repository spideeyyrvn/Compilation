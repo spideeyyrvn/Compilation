{
 "cells": [
  {
   "cell_type": "code",
   "execution_count": 29,
   "id": "17c11d44",
   "metadata": {},
   "outputs": [],
   "source": [
    "#Import Libraries\n",
    "import numpy as np \n",
    "import pandas as pd \n",
    "import matplotlib.pyplot as plt \n",
    "import seaborn as sns \n",
    "import tensorflow as tf \n",
    "from tensorflow import keras \n",
    "from tensorflow.keras import layers \n",
    "from sklearn.model_selection import train_test_split"
   ]
  },
  {
   "cell_type": "markdown",
   "id": "b202261a",
   "metadata": {},
   "source": [
    "### To do: develop an accurate simple neural network model for spam classification (no LSTM, CNN, etc.)"
   ]
  },
  {
   "cell_type": "code",
   "execution_count": 30,
   "id": "daad7254",
   "metadata": {},
   "outputs": [],
   "source": [
    "#Read csv file\n",
    "data_spam = pd.read_csv('spam.csv',encoding='latin-1')"
   ]
  },
  {
   "cell_type": "code",
   "execution_count": 31,
   "id": "6ee3b55b",
   "metadata": {},
   "outputs": [],
   "source": [
    "#Filtering data\n",
    "data_spam = data_spam.drop([\"Unnamed: 2\", \"Unnamed: 3\", \"Unnamed: 4\"], axis=1)\n",
    "data_spam = data_spam.rename(columns={\"v1\":'label', \"v2\":'text'})\n",
    "data_spam['number_label'] = data_spam['label'].map({'ham':0,'spam':1})"
   ]
  },
  {
   "cell_type": "code",
   "execution_count": 32,
   "id": "cca0837e",
   "metadata": {},
   "outputs": [
    {
     "data": {
      "text/html": [
       "<div>\n",
       "<style scoped>\n",
       "    .dataframe tbody tr th:only-of-type {\n",
       "        vertical-align: middle;\n",
       "    }\n",
       "\n",
       "    .dataframe tbody tr th {\n",
       "        vertical-align: top;\n",
       "    }\n",
       "\n",
       "    .dataframe thead th {\n",
       "        text-align: right;\n",
       "    }\n",
       "</style>\n",
       "<table border=\"1\" class=\"dataframe\">\n",
       "  <thead>\n",
       "    <tr style=\"text-align: right;\">\n",
       "      <th></th>\n",
       "      <th>label</th>\n",
       "      <th>text</th>\n",
       "      <th>number_label</th>\n",
       "    </tr>\n",
       "  </thead>\n",
       "  <tbody>\n",
       "    <tr>\n",
       "      <th>0</th>\n",
       "      <td>ham</td>\n",
       "      <td>Go until jurong point, crazy.. Available only ...</td>\n",
       "      <td>0</td>\n",
       "    </tr>\n",
       "    <tr>\n",
       "      <th>1</th>\n",
       "      <td>ham</td>\n",
       "      <td>Ok lar... Joking wif u oni...</td>\n",
       "      <td>0</td>\n",
       "    </tr>\n",
       "    <tr>\n",
       "      <th>2</th>\n",
       "      <td>spam</td>\n",
       "      <td>Free entry in 2 a wkly comp to win FA Cup fina...</td>\n",
       "      <td>1</td>\n",
       "    </tr>\n",
       "    <tr>\n",
       "      <th>3</th>\n",
       "      <td>ham</td>\n",
       "      <td>U dun say so early hor... U c already then say...</td>\n",
       "      <td>0</td>\n",
       "    </tr>\n",
       "    <tr>\n",
       "      <th>4</th>\n",
       "      <td>ham</td>\n",
       "      <td>Nah I don't think he goes to usf, he lives aro...</td>\n",
       "      <td>0</td>\n",
       "    </tr>\n",
       "  </tbody>\n",
       "</table>\n",
       "</div>"
      ],
      "text/plain": [
       "  label                                               text  number_label\n",
       "0   ham  Go until jurong point, crazy.. Available only ...             0\n",
       "1   ham                      Ok lar... Joking wif u oni...             0\n",
       "2  spam  Free entry in 2 a wkly comp to win FA Cup fina...             1\n",
       "3   ham  U dun say so early hor... U c already then say...             0\n",
       "4   ham  Nah I don't think he goes to usf, he lives aro...             0"
      ]
     },
     "execution_count": 32,
     "metadata": {},
     "output_type": "execute_result"
    }
   ],
   "source": [
    "#Show dataset preview\n",
    "data_spam.head()"
   ]
  },
  {
   "cell_type": "code",
   "execution_count": 33,
   "id": "014c769f",
   "metadata": {},
   "outputs": [
    {
     "data": {
      "text/plain": [
       "<AxesSubplot:xlabel='label', ylabel='count'>"
      ]
     },
     "execution_count": 33,
     "metadata": {},
     "output_type": "execute_result"
    },
    {
     "data": {
      "image/png": "[encoded data removed]",
      "text/plain": [
       "<Figure size 432x288 with 1 Axes>"
      ]
     },
     "metadata": {
      "needs_background": "light"
     },
     "output_type": "display_data"
    }
   ],
   "source": [
    "#Plot the diagram\n",
    "sns.countplot(x=data_spam['label']) "
   ]
  },
  {
   "cell_type": "code",
   "execution_count": 34,
   "id": "56b891d1",
   "metadata": {},
   "outputs": [
    {
     "data": {
      "text/plain": [
       "<AxesSubplot:ylabel='count'>"
      ]
     },
     "execution_count": 34,
     "metadata": {},
     "output_type": "execute_result"
    },
    {
     "data": {
      "image/png": "[encoded data removed]",
      "text/plain": [
       "<Figure size 432x288 with 1 Axes>"
      ]
     },
     "metadata": {
      "needs_background": "light"
     },
     "output_type": "display_data"
    }
   ],
   "source": [
    "sns.countplot(x=[len(data_spam.loc[i]['text']) for i in range(len(data_spam))])"
   ]
  },
  {
   "cell_type": "code",
   "execution_count": 35,
   "id": "fbb51726",
   "metadata": {},
   "outputs": [
    {
     "name": "stdout",
     "output_type": "stream",
     "text": [
      "The total number of words in the Dataframe is86335\n",
      "Average word count in each sentence is equal to 15\n"
     ]
    },
    {
     "data": {
      "text/plain": [
       "([20, 6, 28, 11, 13], 86335, 15)"
      ]
     },
     "execution_count": 35,
     "metadata": {},
     "output_type": "execute_result"
    }
   ],
   "source": [
    "#Checking data distribution\n",
    "text_words_lengths = [len(data_spam.loc[i]['text'].split()) for i in range(0, len(data_spam))]\n",
    "total_length = np.sum(text_words_lengths)\n",
    "text_words_mean = int(np.mean(text_words_lengths))\n",
    "print('The total number of words in the Dataframe is' + str(total_length))\n",
    "print('Average word count in each sentence is equal to ' + str(text_words_mean))\n",
    "text_words_lengths[:5], total_length, text_words_mean"
   ]
  },
  {
   "cell_type": "code",
   "execution_count": 36,
   "id": "d330a9b0",
   "metadata": {},
   "outputs": [
    {
     "data": {
      "text/plain": [
       "(4457,\n",
       " 1115,\n",
       " array(['Yo you guys ever figure out how much we need for alcohol? Jay and I are trying to figure out how much we can safely spend on weed',\n",
       "        'Its ok..come to my home it vl nice to meet and v can chat..'],\n",
       "       dtype=object),\n",
       " array([0, 0], dtype=int64))"
      ]
     },
     "execution_count": 36,
     "metadata": {},
     "output_type": "execute_result"
    }
   ],
   "source": [
    "#Split the data\n",
    "X, Y = np.asanyarray(data_spam['text']), np.asanyarray(data_spam['number_label'])\n",
    "\n",
    "X_train, X_test, Y_train, Y_test = train_test_split(X, Y, test_size=0.2, random_state=30)\n",
    "len(X_train), len(X_test), X_train[:2], Y_train[:2]"
   ]
  },
  {
   "cell_type": "code",
   "execution_count": 37,
   "id": "c38f323a",
   "metadata": {},
   "outputs": [],
   "source": [
    "#Use of tokens\n",
    "MAXTOKENS = total_length\n",
    "OUTPUTLEN = text_words_mean\n",
    "\n",
    "text_vec = layers.TextVectorization(max_tokens=MAXTOKENS, standardize='lower_and_strip_punctuation', output_mode='int',\n",
    "                                    output_sequence_length=OUTPUTLEN)\n",
    "\n",
    "text_vec.adapt(X_train)"
   ]
  },
  {
   "cell_type": "code",
   "execution_count": 38,
   "id": "246e683d",
   "metadata": {},
   "outputs": [],
   "source": [
    "#Embed layer\n",
    "embedding_layer = layers.Embedding(input_dim=MAXTOKENS, output_dim=128, embeddings_initializer='uniform', input_length=OUTPUTLEN)"
   ]
  },
  {
   "cell_type": "code",
   "execution_count": 39,
   "id": "8e691076",
   "metadata": {},
   "outputs": [],
   "source": [
    "# Input layer\n",
    "input_layer = layers.Input(shape=(1,), dtype=tf.string)\n",
    "vec_layer = text_vec(input_layer)\n",
    "embedding_layer_model = embedding_layer(vec_layer)\n",
    "x = layers.GlobalAveragePooling1D()(embedding_layer_model)\n",
    "x = layers.Flatten()(x)\n",
    "x = layers.Dense(32, activation='relu')(x)\n",
    "output_layer = layers.Dense(1, activation='sigmoid')(x)"
   ]
  },
  {
   "cell_type": "code",
   "execution_count": 40,
   "id": "b336b163",
   "metadata": {},
   "outputs": [],
   "source": [
    "#Model\n",
    "model_spam = keras.Model(input_layer, output_layer)"
   ]
  },
  {
   "cell_type": "code",
   "execution_count": 42,
   "id": "16458fb0",
   "metadata": {},
   "outputs": [],
   "source": [
    "#Compile the Model\n",
    "model_spam.compile(loss=keras.losses.BinaryCrossentropy(label_smoothing=0.5), optimizer= keras.optimizers.Adam(), metrics=['accuracy'])"
   ]
  },
  {
   "cell_type": "code",
   "execution_count": 43,
   "id": "77be4f5c",
   "metadata": {},
   "outputs": [
    {
     "name": "stdout",
     "output_type": "stream",
     "text": [
      "Epoch 1/50\n",
      "10/10 [==============================] - ETA: 0s - loss: 0.6777 - accuracy: 0.8638WARNING:tensorflow:Your input ran out of data; interrupting training. Make sure that your dataset or generator can generate at least `steps_per_epoch * epochs` batches (in this case, 223 batches). You may need to use the repeat() function when building your dataset.\n",
      "10/10 [==============================] - 5s 370ms/step - loss: 0.6777 - accuracy: 0.8638 - val_loss: 0.6613 - val_accuracy: 0.8700\n",
      "Epoch 2/50\n",
      "10/10 [==============================] - 1s 141ms/step - loss: 0.6461 - accuracy: 0.8652\n",
      "Epoch 3/50\n",
      "10/10 [==============================] - 1s 142ms/step - loss: 0.6127 - accuracy: 0.8726\n",
      "Epoch 4/50\n",
      "10/10 [==============================] - 1s 139ms/step - loss: 0.5941 - accuracy: 0.8932\n",
      "Epoch 5/50\n",
      "10/10 [==============================] - 1s 143ms/step - loss: 0.5875 - accuracy: 0.9367\n",
      "Epoch 6/50\n",
      "10/10 [==============================] - 2s 151ms/step - loss: 0.5813 - accuracy: 0.9684\n",
      "Epoch 7/50\n",
      "10/10 [==============================] - 2s 155ms/step - loss: 0.5760 - accuracy: 0.9843\n",
      "Epoch 8/50\n",
      "10/10 [==============================] - 2s 151ms/step - loss: 0.5717 - accuracy: 0.9881\n",
      "Epoch 9/50\n",
      "10/10 [==============================] - 2s 157ms/step - loss: 0.5689 - accuracy: 0.9910\n",
      "Epoch 10/50\n",
      "10/10 [==============================] - 1s 146ms/step - loss: 0.5673 - accuracy: 0.9928\n",
      "Epoch 11/50\n",
      "10/10 [==============================] - 2s 152ms/step - loss: 0.5665 - accuracy: 0.9942\n",
      "Epoch 12/50\n",
      "10/10 [==============================] - 2s 150ms/step - loss: 0.5659 - accuracy: 0.9948\n",
      "Epoch 13/50\n",
      "10/10 [==============================] - 1s 151ms/step - loss: 0.5654 - accuracy: 0.9964\n",
      "Epoch 14/50\n",
      "10/10 [==============================] - 2s 151ms/step - loss: 0.5650 - accuracy: 0.9969\n",
      "Epoch 15/50\n",
      "10/10 [==============================] - 2s 163ms/step - loss: 0.5647 - accuracy: 0.9978\n",
      "Epoch 16/50\n",
      "10/10 [==============================] - 2s 166ms/step - loss: 0.5644 - accuracy: 0.9982\n",
      "Epoch 17/50\n",
      "10/10 [==============================] - 2s 173ms/step - loss: 0.5642 - accuracy: 0.9982\n",
      "Epoch 18/50\n",
      "10/10 [==============================] - 2s 171ms/step - loss: 0.5640 - accuracy: 0.9984\n",
      "Epoch 19/50\n",
      "10/10 [==============================] - 2s 218ms/step - loss: 0.5638 - accuracy: 0.9984\n",
      "Epoch 20/50\n",
      "10/10 [==============================] - 2s 175ms/step - loss: 0.5637 - accuracy: 0.9989\n",
      "Epoch 21/50\n",
      "10/10 [==============================] - 1s 150ms/step - loss: 0.5636 - accuracy: 0.9991\n",
      "Epoch 22/50\n",
      "10/10 [==============================] - 2s 154ms/step - loss: 0.5635 - accuracy: 0.9991\n",
      "Epoch 23/50\n",
      "10/10 [==============================] - 2s 165ms/step - loss: 0.5634 - accuracy: 0.9993\n",
      "Epoch 24/50\n",
      "10/10 [==============================] - 2s 173ms/step - loss: 0.5633 - accuracy: 0.9993\n",
      "Epoch 25/50\n",
      "10/10 [==============================] - 2s 177ms/step - loss: 0.5632 - accuracy: 0.9993\n",
      "Epoch 26/50\n",
      "10/10 [==============================] - 2s 174ms/step - loss: 0.5631 - accuracy: 0.9993\n",
      "Epoch 27/50\n",
      "10/10 [==============================] - 2s 180ms/step - loss: 0.5631 - accuracy: 0.9993\n",
      "Epoch 28/50\n",
      "10/10 [==============================] - 2s 173ms/step - loss: 0.5630 - accuracy: 0.9993\n",
      "Epoch 29/50\n",
      "10/10 [==============================] - 2s 171ms/step - loss: 0.5629 - accuracy: 0.9993\n",
      "Epoch 30/50\n",
      "10/10 [==============================] - 2s 180ms/step - loss: 0.5629 - accuracy: 0.9993\n",
      "Epoch 31/50\n",
      "10/10 [==============================] - 2s 162ms/step - loss: 0.5629 - accuracy: 0.9996\n",
      "Epoch 32/50\n",
      "10/10 [==============================] - 2s 169ms/step - loss: 0.5628 - accuracy: 0.9996\n",
      "Epoch 33/50\n",
      "10/10 [==============================] - 2s 179ms/step - loss: 0.5628 - accuracy: 0.9996\n",
      "Epoch 34/50\n",
      "10/10 [==============================] - 2s 198ms/step - loss: 0.5628 - accuracy: 0.9998\n",
      "Epoch 35/50\n",
      "10/10 [==============================] - 2s 201ms/step - loss: 0.5627 - accuracy: 1.0000\n",
      "Epoch 36/50\n",
      "10/10 [==============================] - 2s 190ms/step - loss: 0.5627 - accuracy: 1.0000\n",
      "Epoch 37/50\n",
      "10/10 [==============================] - 2s 176ms/step - loss: 0.5627 - accuracy: 1.0000\n",
      "Epoch 38/50\n",
      "10/10 [==============================] - 2s 152ms/step - loss: 0.5627 - accuracy: 1.0000\n",
      "Epoch 39/50\n",
      "10/10 [==============================] - 1s 149ms/step - loss: 0.5626 - accuracy: 1.0000\n",
      "Epoch 40/50\n",
      "10/10 [==============================] - 1s 149ms/step - loss: 0.5626 - accuracy: 1.0000\n",
      "Epoch 41/50\n",
      "10/10 [==============================] - 2s 156ms/step - loss: 0.5626 - accuracy: 1.0000\n",
      "Epoch 42/50\n",
      "10/10 [==============================] - 1s 147ms/step - loss: 0.5626 - accuracy: 1.0000\n",
      "Epoch 43/50\n",
      "10/10 [==============================] - 1s 145ms/step - loss: 0.5626 - accuracy: 1.0000\n",
      "Epoch 44/50\n",
      "10/10 [==============================] - 1s 144ms/step - loss: 0.5626 - accuracy: 1.0000\n",
      "Epoch 45/50\n",
      "10/10 [==============================] - 1s 147ms/step - loss: 0.5626 - accuracy: 1.0000\n",
      "Epoch 46/50\n",
      "10/10 [==============================] - 1s 147ms/step - loss: 0.5625 - accuracy: 1.0000\n",
      "Epoch 47/50\n",
      "10/10 [==============================] - 1s 142ms/step - loss: 0.5625 - accuracy: 1.0000\n",
      "Epoch 48/50\n",
      "10/10 [==============================] - 1s 150ms/step - loss: 0.5625 - accuracy: 1.0000\n",
      "Epoch 49/50\n",
      "10/10 [==============================] - 1s 145ms/step - loss: 0.5625 - accuracy: 1.0000\n",
      "Epoch 50/50\n",
      "10/10 [==============================] - 1s 149ms/step - loss: 0.5625 - accuracy: 1.0000\n"
     ]
    }
   ],
   "source": [
    "#Train the Model\n",
    "history = model_spam.fit(X_train, Y_train, epochs=50, batch_size=450, validation_data=(X_test, Y_test), validation_steps=int(0.2 * len(X_test)))"
   ]
  },
  {
   "cell_type": "code",
   "execution_count": 44,
   "id": "87cd648c",
   "metadata": {},
   "outputs": [
    {
     "name": "stdout",
     "output_type": "stream",
     "text": [
      "Accuracy: 0.9758\n",
      "Loss: 0.5738\n"
     ]
    }
   ],
   "source": [
    "#Evaluate the Model\n",
    "loss, accuracy = model_spam.evaluate(X_test, Y_test, verbose=False)\n",
    "print(\"Accuracy: {:.4f}\".format(accuracy))\n",
    "loss, accuracy = model_spam.evaluate(X_test, Y_test, verbose=False)\n",
    "print(\"Loss: {:.4f}\".format(loss))"
   ]
  },
  {
   "cell_type": "code",
   "execution_count": 46,
   "id": "41e7bb73",
   "metadata": {},
   "outputs": [],
   "source": [
    "#Output csv\n",
    "data_spam.to_csv(\"Agbayani_spam_output.csv\")"
   ]
  },
  {
   "cell_type": "code",
   "execution_count": null,
   "id": "85b3227b",
   "metadata": {},
   "outputs": [],
   "source": []
  }
 ],
 "metadata": {
  "kernelspec": {
   "display_name": "Python 3 (ipykernel)",
   "language": "python",
   "name": "python3"
  },
  "language_info": {
   "codemirror_mode": {
    "name": "ipython",
    "version": 3
   },
   "file_extension": ".py",
   "mimetype": "text/x-python",
   "name": "python",
   "nbconvert_exporter": "python",
   "pygments_lexer": "ipython3",
   "version": "3.9.12"
  }
 },
 "nbformat": 4,
 "nbformat_minor": 5
}
