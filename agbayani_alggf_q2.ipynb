{
 "cells": [
  {
   "cell_type": "code",
   "execution_count": 1,
   "id": "572f6519",
   "metadata": {},
   "outputs": [],
   "source": [
    "import pandas as pd\n",
    "import numpy as np\n",
    "import math\n",
    "import pandas_datareader as pdd\n",
    "import tensorflow as tf\n",
    "import matplotlib.pyplot as plt\n",
    "from tensorflow.keras.models import Sequential\n",
    "from tensorflow.keras.layers import *\n",
    "from tensorflow.keras.callbacks import ModelCheckpoint\n",
    "from tensorflow.keras.losses import MeanSquaredError\n",
    "from tensorflow.keras.metrics import RootMeanSquaredError\n",
    "from tensorflow.keras.optimizers import Adam"
   ]
  },
  {
   "cell_type": "code",
   "execution_count": 2,
   "id": "cb52527d",
   "metadata": {},
   "outputs": [],
   "source": [
    "alggf_data = pdd.DataReader('ALGGF', data_source='yahoo', start='2020-01-01', end = '2022-10-10')"
   ]
  },
  {
   "cell_type": "code",
   "execution_count": 3,
   "id": "df860c24",
   "metadata": {},
   "outputs": [
    {
     "data": {
      "text/html": [
       "<div>\n",
       "<style scoped>\n",
       "    .dataframe tbody tr th:only-of-type {\n",
       "        vertical-align: middle;\n",
       "    }\n",
       "\n",
       "    .dataframe tbody tr th {\n",
       "        vertical-align: top;\n",
       "    }\n",
       "\n",
       "    .dataframe thead th {\n",
       "        text-align: right;\n",
       "    }\n",
       "</style>\n",
       "<table border=\"1\" class=\"dataframe\">\n",
       "  <thead>\n",
       "    <tr style=\"text-align: right;\">\n",
       "      <th></th>\n",
       "      <th>High</th>\n",
       "      <th>Low</th>\n",
       "      <th>Open</th>\n",
       "      <th>Close</th>\n",
       "      <th>Volume</th>\n",
       "      <th>Adj Close</th>\n",
       "    </tr>\n",
       "    <tr>\n",
       "      <th>Date</th>\n",
       "      <th></th>\n",
       "      <th></th>\n",
       "      <th></th>\n",
       "      <th></th>\n",
       "      <th></th>\n",
       "      <th></th>\n",
       "    </tr>\n",
       "  </thead>\n",
       "  <tbody>\n",
       "    <tr>\n",
       "      <th>2019-12-31</th>\n",
       "      <td>0.220</td>\n",
       "      <td>0.220</td>\n",
       "      <td>0.220</td>\n",
       "      <td>0.220</td>\n",
       "      <td>0.0</td>\n",
       "      <td>0.21814</td>\n",
       "    </tr>\n",
       "    <tr>\n",
       "      <th>2020-01-02</th>\n",
       "      <td>0.220</td>\n",
       "      <td>0.220</td>\n",
       "      <td>0.220</td>\n",
       "      <td>0.220</td>\n",
       "      <td>0.0</td>\n",
       "      <td>0.21814</td>\n",
       "    </tr>\n",
       "    <tr>\n",
       "      <th>2020-01-03</th>\n",
       "      <td>0.220</td>\n",
       "      <td>0.220</td>\n",
       "      <td>0.220</td>\n",
       "      <td>0.220</td>\n",
       "      <td>0.0</td>\n",
       "      <td>0.21814</td>\n",
       "    </tr>\n",
       "    <tr>\n",
       "      <th>2020-01-06</th>\n",
       "      <td>0.220</td>\n",
       "      <td>0.220</td>\n",
       "      <td>0.220</td>\n",
       "      <td>0.220</td>\n",
       "      <td>0.0</td>\n",
       "      <td>0.21814</td>\n",
       "    </tr>\n",
       "    <tr>\n",
       "      <th>2020-01-07</th>\n",
       "      <td>0.220</td>\n",
       "      <td>0.220</td>\n",
       "      <td>0.220</td>\n",
       "      <td>0.220</td>\n",
       "      <td>0.0</td>\n",
       "      <td>0.21814</td>\n",
       "    </tr>\n",
       "    <tr>\n",
       "      <th>...</th>\n",
       "      <td>...</td>\n",
       "      <td>...</td>\n",
       "      <td>...</td>\n",
       "      <td>...</td>\n",
       "      <td>...</td>\n",
       "      <td>...</td>\n",
       "    </tr>\n",
       "    <tr>\n",
       "      <th>2022-10-04</th>\n",
       "      <td>0.182</td>\n",
       "      <td>0.182</td>\n",
       "      <td>0.182</td>\n",
       "      <td>0.182</td>\n",
       "      <td>0.0</td>\n",
       "      <td>0.18200</td>\n",
       "    </tr>\n",
       "    <tr>\n",
       "      <th>2022-10-05</th>\n",
       "      <td>0.182</td>\n",
       "      <td>0.182</td>\n",
       "      <td>0.182</td>\n",
       "      <td>0.182</td>\n",
       "      <td>0.0</td>\n",
       "      <td>0.18200</td>\n",
       "    </tr>\n",
       "    <tr>\n",
       "      <th>2022-10-06</th>\n",
       "      <td>0.182</td>\n",
       "      <td>0.182</td>\n",
       "      <td>0.182</td>\n",
       "      <td>0.182</td>\n",
       "      <td>0.0</td>\n",
       "      <td>0.18200</td>\n",
       "    </tr>\n",
       "    <tr>\n",
       "      <th>2022-10-07</th>\n",
       "      <td>0.182</td>\n",
       "      <td>0.182</td>\n",
       "      <td>0.182</td>\n",
       "      <td>0.182</td>\n",
       "      <td>0.0</td>\n",
       "      <td>0.18200</td>\n",
       "    </tr>\n",
       "    <tr>\n",
       "      <th>2022-10-10</th>\n",
       "      <td>0.182</td>\n",
       "      <td>0.182</td>\n",
       "      <td>0.182</td>\n",
       "      <td>0.182</td>\n",
       "      <td>0.0</td>\n",
       "      <td>0.18200</td>\n",
       "    </tr>\n",
       "  </tbody>\n",
       "</table>\n",
       "<p>700 rows × 6 columns</p>\n",
       "</div>"
      ],
      "text/plain": [
       "             High    Low   Open  Close  Volume  Adj Close\n",
       "Date                                                     \n",
       "2019-12-31  0.220  0.220  0.220  0.220     0.0    0.21814\n",
       "2020-01-02  0.220  0.220  0.220  0.220     0.0    0.21814\n",
       "2020-01-03  0.220  0.220  0.220  0.220     0.0    0.21814\n",
       "2020-01-06  0.220  0.220  0.220  0.220     0.0    0.21814\n",
       "2020-01-07  0.220  0.220  0.220  0.220     0.0    0.21814\n",
       "...           ...    ...    ...    ...     ...        ...\n",
       "2022-10-04  0.182  0.182  0.182  0.182     0.0    0.18200\n",
       "2022-10-05  0.182  0.182  0.182  0.182     0.0    0.18200\n",
       "2022-10-06  0.182  0.182  0.182  0.182     0.0    0.18200\n",
       "2022-10-07  0.182  0.182  0.182  0.182     0.0    0.18200\n",
       "2022-10-10  0.182  0.182  0.182  0.182     0.0    0.18200\n",
       "\n",
       "[700 rows x 6 columns]"
      ]
     },
     "execution_count": 3,
     "metadata": {},
     "output_type": "execute_result"
    }
   ],
   "source": [
    "alggf_data"
   ]
  },
  {
   "cell_type": "code",
   "execution_count": 4,
   "id": "37331d3f",
   "metadata": {},
   "outputs": [
    {
     "data": {
      "text/plain": [
       "<AxesSubplot:xlabel='Date'>"
      ]
     },
     "execution_count": 4,
     "metadata": {},
     "output_type": "execute_result"
    },
    {
     "data": {
      "image/png": "[encoded data removed]",
      "text/plain": [
       "<Figure size 432x288 with 1 Axes>"
      ]
     },
     "metadata": {
      "needs_background": "light"
     },
     "output_type": "display_data"
    }
   ],
   "source": [
    "y_alggf = alggf_data['Adj Close']\n",
    "y_alggf.index=alggf_data.index\n",
    "y_alggf.plot()"
   ]
  },
  {
   "cell_type": "code",
   "execution_count": 5,
   "id": "02d1f823",
   "metadata": {},
   "outputs": [],
   "source": [
    "y_alggf = y_alggf.values"
   ]
  },
  {
   "cell_type": "code",
   "execution_count": 6,
   "id": "b76bb801",
   "metadata": {},
   "outputs": [
    {
     "name": "stdout",
     "output_type": "stream",
     "text": [
      "560\n"
     ]
    }
   ],
   "source": [
    "training_size = int(y_alggf.size * 0.8)\n",
    "print(training_size)"
   ]
  },
  {
   "cell_type": "code",
   "execution_count": 7,
   "id": "0e7e0f8f",
   "metadata": {},
   "outputs": [],
   "source": [
    "training_mean = y_alggf[:training_size].mean()\n",
    "training_std = y_alggf[:training_size].std()\n",
    "# standarize the data\n",
    "y_alggf = (y_alggf-training_mean)/training_std"
   ]
  },
  {
   "cell_type": "code",
   "execution_count": 8,
   "id": "b799b690",
   "metadata": {},
   "outputs": [
    {
     "data": {
      "text/plain": [
       "array([0.60160623, 0.60160623, 0.60160623, 0.60160623, 0.60160623])"
      ]
     },
     "execution_count": 8,
     "metadata": {},
     "output_type": "execute_result"
    }
   ],
   "source": [
    "y_alggf[0:5]"
   ]
  },
  {
   "cell_type": "code",
   "execution_count": 9,
   "id": "21d2675b",
   "metadata": {},
   "outputs": [],
   "source": [
    "def data_preprocess(dataset, iStart, iEnd, sHistory):\n",
    "  data = []\n",
    "  target = []\n",
    "  # begin with sHistory to have historical data\n",
    "  iStart += sHistory\n",
    "  if iEnd is None:\n",
    "    iEnd = len(dataset)\n",
    "  for i in range(iStart, iEnd):\n",
    "    indices = range(i-sHistory, i)\n",
    "    data.append(np.reshape(dataset[indices], (sHistory, 1)))\n",
    "    target.append(dataset[i])\n",
    "  return np.array(data), np.array(target)"
   ]
  },
  {
   "cell_type": "code",
   "execution_count": 10,
   "id": "0fb69158",
   "metadata": {},
   "outputs": [],
   "source": [
    "past_history = 10\n",
    "xtrain, ytrain = data_preprocess(y_alggf, 0, training_size, past_history)\n",
    "xtest, ytest = data_preprocess(y_alggf, training_size, None, past_history)"
   ]
  },
  {
   "cell_type": "code",
   "execution_count": 11,
   "id": "56a1919c",
   "metadata": {},
   "outputs": [
    {
     "data": {
      "text/plain": [
       "array([[1.56923248],\n",
       "       [1.56923248],\n",
       "       [1.56923248],\n",
       "       [1.56923248],\n",
       "       [1.56923248],\n",
       "       [1.56923248],\n",
       "       [1.56923248],\n",
       "       [1.56923248],\n",
       "       [1.56923248],\n",
       "       [1.56923248]])"
      ]
     },
     "execution_count": 11,
     "metadata": {},
     "output_type": "execute_result"
    }
   ],
   "source": [
    "xtest[0]"
   ]
  },
  {
   "cell_type": "code",
   "execution_count": 12,
   "id": "4c288388",
   "metadata": {},
   "outputs": [
    {
     "data": {
      "text/plain": [
       "array([[1.56923248],\n",
       "       [1.56923248],\n",
       "       [1.56923248],\n",
       "       [1.56923248],\n",
       "       [1.56923248],\n",
       "       [1.56923248],\n",
       "       [1.56923248],\n",
       "       [1.56923248],\n",
       "       [1.56923248],\n",
       "       [1.56923248]])"
      ]
     },
     "execution_count": 12,
     "metadata": {},
     "output_type": "execute_result"
    }
   ],
   "source": [
    "xtest[1]"
   ]
  },
  {
   "cell_type": "code",
   "execution_count": 13,
   "id": "c9783ef3",
   "metadata": {},
   "outputs": [],
   "source": [
    "tf.random.set_seed(8888)\n",
    "model_alggf = tf.keras.models.Sequential([tf.keras.layers.LSTM(8, input_shape=xtrain.shape[-2:]), tf.keras.layers.Dense(1)])"
   ]
  },
  {
   "cell_type": "code",
   "execution_count": 14,
   "id": "3da74773",
   "metadata": {},
   "outputs": [
    {
     "name": "stdout",
     "output_type": "stream",
     "text": [
      "Model: \"sequential\"\n",
      "_________________________________________________________________\n",
      " Layer (type)                Output Shape              Param #   \n",
      "=================================================================\n",
      " lstm (LSTM)                 (None, 8)                 320       \n",
      "                                                                 \n",
      " dense (Dense)               (None, 1)                 9         \n",
      "                                                                 \n",
      "=================================================================\n",
      "Total params: 329\n",
      "Trainable params: 329\n",
      "Non-trainable params: 0\n",
      "_________________________________________________________________\n"
     ]
    }
   ],
   "source": [
    "model_alggf.summary()"
   ]
  },
  {
   "cell_type": "code",
   "execution_count": 15,
   "id": "519ccf40",
   "metadata": {},
   "outputs": [],
   "source": [
    "model_alggf.compile(optimizer='Adam', loss='mse')"
   ]
  },
  {
   "cell_type": "code",
   "execution_count": 16,
   "id": "c43a4142",
   "metadata": {},
   "outputs": [],
   "source": [
    "BATCH_SIZE = 16\n",
    "BUFFER_SIZE = 10000\n",
    "\n",
    "p_train = tf.data.Dataset.from_tensor_slices((xtrain, ytrain))\n",
    "p_train = p_train.cache().shuffle(BUFFER_SIZE).batch(BATCH_SIZE).repeat()\n",
    "\n",
    "p_test = tf.data.Dataset.from_tensor_slices((xtest, ytest))\n",
    "p_test = p_test.batch(BATCH_SIZE).repeat()"
   ]
  },
  {
   "cell_type": "code",
   "execution_count": 17,
   "id": "2f66d925",
   "metadata": {
    "scrolled": true
   },
   "outputs": [
    {
     "name": "stdout",
     "output_type": "stream",
     "text": [
      "Epoch 1/10\n",
      "200/200 [==============================] - 11s 21ms/step - loss: 0.2383 - val_loss: 0.1159\n",
      "Epoch 2/10\n",
      "200/200 [==============================] - 2s 11ms/step - loss: 0.0562 - val_loss: 0.0648\n",
      "Epoch 3/10\n",
      "200/200 [==============================] - 2s 8ms/step - loss: 0.0448 - val_loss: 0.0499\n",
      "Epoch 4/10\n",
      "200/200 [==============================] - 2s 8ms/step - loss: 0.0403 - val_loss: 0.0421\n",
      "Epoch 5/10\n",
      "200/200 [==============================] - 1s 7ms/step - loss: 0.0363 - val_loss: 0.0375\n",
      "Epoch 6/10\n",
      "200/200 [==============================] - 1s 7ms/step - loss: 0.0337 - val_loss: 0.0341\n",
      "Epoch 7/10\n",
      "200/200 [==============================] - 1s 7ms/step - loss: 0.0323 - val_loss: 0.0321\n",
      "Epoch 8/10\n",
      "200/200 [==============================] - 1s 7ms/step - loss: 0.0301 - val_loss: 0.0307\n",
      "Epoch 9/10\n",
      "200/200 [==============================] - 1s 7ms/step - loss: 0.0291 - val_loss: 0.0285\n",
      "Epoch 10/10\n",
      "200/200 [==============================] - 1s 7ms/step - loss: 0.0273 - val_loss: 0.0272\n"
     ]
    }
   ],
   "source": [
    "history = model_alggf.fit(p_train, epochs = 10, steps_per_epoch=200, validation_data=p_test, validation_steps=50)"
   ]
  },
  {
   "cell_type": "code",
   "execution_count": 18,
   "id": "b502052a",
   "metadata": {},
   "outputs": [
    {
     "data": {
      "text/html": [
       "<div>\n",
       "<style scoped>\n",
       "    .dataframe tbody tr th:only-of-type {\n",
       "        vertical-align: middle;\n",
       "    }\n",
       "\n",
       "    .dataframe tbody tr th {\n",
       "        vertical-align: top;\n",
       "    }\n",
       "\n",
       "    .dataframe thead th {\n",
       "        text-align: right;\n",
       "    }\n",
       "</style>\n",
       "<table border=\"1\" class=\"dataframe\">\n",
       "  <thead>\n",
       "    <tr style=\"text-align: right;\">\n",
       "      <th></th>\n",
       "      <th>loss</th>\n",
       "      <th>val_loss</th>\n",
       "    </tr>\n",
       "  </thead>\n",
       "  <tbody>\n",
       "    <tr>\n",
       "      <th>0</th>\n",
       "      <td>0.238258</td>\n",
       "      <td>0.115860</td>\n",
       "    </tr>\n",
       "    <tr>\n",
       "      <th>1</th>\n",
       "      <td>0.056229</td>\n",
       "      <td>0.064754</td>\n",
       "    </tr>\n",
       "    <tr>\n",
       "      <th>2</th>\n",
       "      <td>0.044772</td>\n",
       "      <td>0.049926</td>\n",
       "    </tr>\n",
       "    <tr>\n",
       "      <th>3</th>\n",
       "      <td>0.040346</td>\n",
       "      <td>0.042096</td>\n",
       "    </tr>\n",
       "    <tr>\n",
       "      <th>4</th>\n",
       "      <td>0.036294</td>\n",
       "      <td>0.037497</td>\n",
       "    </tr>\n",
       "  </tbody>\n",
       "</table>\n",
       "</div>"
      ],
      "text/plain": [
       "       loss  val_loss\n",
       "0  0.238258  0.115860\n",
       "1  0.056229  0.064754\n",
       "2  0.044772  0.049926\n",
       "3  0.040346  0.042096\n",
       "4  0.036294  0.037497"
      ]
     },
     "execution_count": 18,
     "metadata": {},
     "output_type": "execute_result"
    }
   ],
   "source": [
    "hist_alggf = pd.DataFrame(history.history)\n",
    "hist_alggf.head()"
   ]
  },
  {
   "cell_type": "code",
   "execution_count": 19,
   "id": "d1d14e07",
   "metadata": {},
   "outputs": [
    {
     "data": {
      "text/plain": [
       "<AxesSubplot:>"
      ]
     },
     "execution_count": 19,
     "metadata": {},
     "output_type": "execute_result"
    },
    {
     "data": {
      "image/png": "[encoded data removed]",
      "text/plain": [
       "<Figure size 432x288 with 1 Axes>"
      ]
     },
     "metadata": {
      "needs_background": "light"
     },
     "output_type": "display_data"
    }
   ],
   "source": [
    "hist_alggf.plot()"
   ]
  },
  {
   "cell_type": "code",
   "execution_count": 20,
   "id": "413ad4cf",
   "metadata": {
    "scrolled": true
   },
   "outputs": [
    {
     "name": "stdout",
     "output_type": "stream",
     "text": [
      "1/1 [==============================] - 1s 985ms/step\n",
      "1/1 [==============================] - 0s 27ms/step\n",
      "1/1 [==============================] - 0s 28ms/step\n",
      "1/1 [==============================] - 0s 28ms/step\n",
      "1/1 [==============================] - 0s 32ms/step\n",
      "1/1 [==============================] - 0s 30ms/step\n",
      "1/1 [==============================] - 0s 29ms/step\n",
      "1/1 [==============================] - 0s 28ms/step\n",
      "1/1 [==============================] - 0s 28ms/step\n",
      "1/1 [==============================] - 0s 28ms/step\n",
      "1/1 [==============================] - 0s 30ms/step\n",
      "1/1 [==============================] - 0s 29ms/step\n",
      "1/1 [==============================] - 0s 30ms/step\n",
      "1/1 [==============================] - 0s 62ms/step\n",
      "1/1 [==============================] - 0s 29ms/step\n",
      "1/1 [==============================] - 0s 35ms/step\n",
      "1/1 [==============================] - 0s 40ms/step\n",
      "1/1 [==============================] - 0s 28ms/step\n",
      "1/1 [==============================] - 0s 31ms/step\n",
      "1/1 [==============================] - 0s 30ms/step\n"
     ]
    }
   ],
   "source": [
    "predicted_value = []\n",
    "alggf_orig = []\n",
    "count =0;\n",
    "for x, y in p_train.take(20):\n",
    "  alggf_orig.append(y[0].numpy())\n",
    "  t_pred= model_alggf.predict(x)\n",
    "  predicted_value.append(t_pred[0])"
   ]
  },
  {
   "cell_type": "code",
   "execution_count": 21,
   "id": "fa988f68",
   "metadata": {
    "scrolled": true
   },
   "outputs": [
    {
     "data": {
      "text/plain": [
       "<AxesSubplot:>"
      ]
     },
     "execution_count": 21,
     "metadata": {},
     "output_type": "execute_result"
    },
    {
     "data": {
      "image/png": "[encoded data removed]",
      "text/plain": [
       "<Figure size 432x288 with 1 Axes>"
      ]
     },
     "metadata": {
      "needs_background": "light"
     },
     "output_type": "display_data"
    }
   ],
   "source": [
    "y_pred = [predicted_value[i][0] for i in range(len(predicted_value))]\n",
    "result_alggf = pd.DataFrame({'predicted':y_pred, 'target':alggf_orig})\n",
    "result_alggf.plot()"
   ]
  },
  {
   "cell_type": "code",
   "execution_count": 22,
   "id": "79dfd34e",
   "metadata": {},
   "outputs": [],
   "source": [
    "(result_alggf).to_csv(\"agbayani_alggf_forecast.csv\")"
   ]
  },
  {
   "cell_type": "code",
   "execution_count": null,
   "id": "fbfce1fe",
   "metadata": {},
   "outputs": [],
   "source": []
  }
 ],
 "metadata": {
  "kernelspec": {
   "display_name": "Python 3 (ipykernel)",
   "language": "python",
   "name": "python3"
  },
  "language_info": {
   "codemirror_mode": {
    "name": "ipython",
    "version": 3
   },
   "file_extension": ".py",
   "mimetype": "text/x-python",
   "name": "python",
   "nbconvert_exporter": "python",
   "pygments_lexer": "ipython3",
   "version": "3.9.12"
  }
 },
 "nbformat": 4,
 "nbformat_minor": 5
}
